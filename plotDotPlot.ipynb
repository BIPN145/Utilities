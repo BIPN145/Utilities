{
 "cells": [
  {
   "cell_type": "markdown",
   "id": "9695f80e",
   "metadata": {},
   "source": [
    "# Plot Dot Plot\n",
    "\n",
    "## This notebook will help you generate \"Prism-style\" plots in Python."
   ]
  },
  {
   "cell_type": "markdown",
   "id": "50d67429",
   "metadata": {},
   "source": [
    "## Setup\n",
    "First, we need to update our numpy installation. Run the cell below, and then restart the kernel."
   ]
  },
  {
   "cell_type": "code",
   "execution_count": null,
   "id": "dac39c32",
   "metadata": {},
   "outputs": [],
   "source": [
    "!pip install numpy=='1.22.0'"
   ]
  },
  {
   "cell_type": "markdown",
   "id": "47e3aad7",
   "metadata": {},
   "source": [
    "Now, we can import the packages we need, and show what we've imported."
   ]
  },
  {
   "cell_type": "code",
   "execution_count": 1,
   "id": "c34cdafc",
   "metadata": {},
   "outputs": [
    {
     "name": "stdout",
     "output_type": "stream",
     "text": [
      "Variable   Type      Data/Info\n",
      "------------------------------\n",
      "pd         module    <module 'pandas' from '/U<...>ages/pandas/__init__.py'>\n",
      "plt        module    <module 'matplotlib.pyplo<...>es/matplotlib/pyplot.py'>\n",
      "sns        module    <module 'seaborn' from '/<...>ges/seaborn/__init__.py'>\n"
     ]
    }
   ],
   "source": [
    "import seaborn as sns\n",
    "import pandas as pd\n",
    "import matplotlib.pyplot as plt\n",
    "%matplotlib inline \n",
    "%config InlineBackend.figure_format = 'retina'\n",
    "%whos"
   ]
  },
  {
   "cell_type": "markdown",
   "id": "98bd8fba",
   "metadata": {},
   "source": [
    "## Import Data"
   ]
  },
  {
   "cell_type": "code",
   "execution_count": 26,
   "id": "b6becc60",
   "metadata": {},
   "outputs": [
    {
     "data": {
      "text/html": [
       "<div>\n",
       "<style scoped>\n",
       "    .dataframe tbody tr th:only-of-type {\n",
       "        vertical-align: middle;\n",
       "    }\n",
       "\n",
       "    .dataframe tbody tr th {\n",
       "        vertical-align: top;\n",
       "    }\n",
       "\n",
       "    .dataframe thead th {\n",
       "        text-align: right;\n",
       "    }\n",
       "</style>\n",
       "<table border=\"1\" class=\"dataframe\">\n",
       "  <thead>\n",
       "    <tr style=\"text-align: right;\">\n",
       "      <th></th>\n",
       "      <th>Condition_1</th>\n",
       "      <th>Condition_2</th>\n",
       "    </tr>\n",
       "  </thead>\n",
       "  <tbody>\n",
       "    <tr>\n",
       "      <th>0</th>\n",
       "      <td>1</td>\n",
       "      <td>3</td>\n",
       "    </tr>\n",
       "    <tr>\n",
       "      <th>1</th>\n",
       "      <td>3</td>\n",
       "      <td>4</td>\n",
       "    </tr>\n",
       "    <tr>\n",
       "      <th>2</th>\n",
       "      <td>3</td>\n",
       "      <td>5</td>\n",
       "    </tr>\n",
       "    <tr>\n",
       "      <th>3</th>\n",
       "      <td>2</td>\n",
       "      <td>3</td>\n",
       "    </tr>\n",
       "    <tr>\n",
       "      <th>4</th>\n",
       "      <td>1</td>\n",
       "      <td>2</td>\n",
       "    </tr>\n",
       "    <tr>\n",
       "      <th>5</th>\n",
       "      <td>2</td>\n",
       "      <td>6</td>\n",
       "    </tr>\n",
       "    <tr>\n",
       "      <th>6</th>\n",
       "      <td>4</td>\n",
       "      <td>7</td>\n",
       "    </tr>\n",
       "    <tr>\n",
       "      <th>7</th>\n",
       "      <td>2</td>\n",
       "      <td>8</td>\n",
       "    </tr>\n",
       "    <tr>\n",
       "      <th>8</th>\n",
       "      <td>5</td>\n",
       "      <td>3</td>\n",
       "    </tr>\n",
       "  </tbody>\n",
       "</table>\n",
       "</div>"
      ],
      "text/plain": [
       "   Condition_1  Condition_2\n",
       "0            1            3\n",
       "1            3            4\n",
       "2            3            5\n",
       "3            2            3\n",
       "4            1            2\n",
       "5            2            6\n",
       "6            4            7\n",
       "7            2            8\n",
       "8            5            3"
      ]
     },
     "execution_count": 26,
     "metadata": {},
     "output_type": "execute_result"
    }
   ],
   "source": [
    "# Option 1: Import a CSV file as a Pandas dataframe\n",
    "#filename = ...\n",
    "#data = pd.read_csv(filename)\n",
    "\n",
    "# Option 2: Import your data as two lists and generate a dataframe from it\n",
    "\n",
    "data_1 = [1,3,3,2,1,2,4,2,5]\n",
    "data_2 = [3,4,5,3,2,6,7,8,3]\n",
    "data = pd.DataFrame(data={'Condition_1':data_1,'Condition_2':data_2})\n",
    "data"
   ]
  },
  {
   "cell_type": "markdown",
   "id": "c2c81a8d",
   "metadata": {},
   "source": [
    "## Plot Data\n",
    "Below, we'll use a seaborn plotting function called [swarmplot](https://seaborn.pydata.org/generated/seaborn.swarmplot.html) to plot each of our data points."
   ]
  },
  {
   "cell_type": "code",
   "execution_count": 34,
   "id": "eeb3090c",
   "metadata": {},
   "outputs": [
    {
     "data": {
      "image/png": "[encoded data removed]",
      "text/plain": [
       "<Figure size 288x288 with 1 Axes>"
      ]
     },
     "metadata": {
      "image/png": {
       "height": 248,
       "width": 264
      },
      "needs_background": "light"
     },
     "output_type": "display_data"
    }
   ],
   "source": [
    "# Set up the plot\n",
    "fig,ax = plt.subplots(1,1,figsize=(4,4))\n",
    "\n",
    "# plot the mean line\n",
    "sns.boxplot(data=data, showmeans=True,meanline=True,\n",
    "            meanprops={'color': 'gray', 'ls': '--', 'lw': 2},\n",
    "            medianprops={'visible': True,'color': 'black', 'ls': '-', 'lw': 2},\n",
    "            whiskerprops={'visible': False},\n",
    "            showfliers=False,showbox=False,showcaps=False)\n",
    "\n",
    "# plot individual data points\n",
    "sns.swarmplot(data=data,s=8)\n",
    "\n",
    "plt.ylabel('Thing we\\'re measuring')\n",
    "\n",
    "# Make the axes look nice!\n",
    "ax.spines[['right', 'top']].set_visible(False)\n",
    "\n",
    "plt.show()"
   ]
  },
  {
   "cell_type": "markdown",
   "id": "73046e36",
   "metadata": {},
   "source": [
    "## Check to see how skewed the data is\n",
    "\n",
    "Before we run any hypoothesis tests, we need to know if our data is skewed or not. To test for skewness, we can use [`stats.skewtest`](https://docs.scipy.org/doc/scipy/reference/generated/scipy.stats.skewtest.html#scipy.stats.skewtest) to test. This method implements the <a href=\"https://www.jstor.org/stable/2684359?seq=1\">D'Agostino-Pearson skewness test</a>, one of many different tests (e.g., the Kolmogorov-Smirov test) that can be used to check the normality of a distribution. **If the skew test gives us a p-value of less than 0.05, the population is skewed.**"
   ]
  },
  {
   "cell_type": "code",
   "execution_count": 8,
   "id": "68ef3272",
   "metadata": {},
   "outputs": [
    {
     "name": "stdout",
     "output_type": "stream",
     "text": [
      "The skewtest p-value is 0.173311669037047977326437830925\n"
     ]
    },
    {
     "data": {
      "image/png": "[encoded data removed]",
      "text/plain": [
       "<Figure size 432x288 with 1 Axes>"
      ]
     },
     "metadata": {
      "image/png": {
       "height": 261,
       "width": 385
      },
      "needs_background": "light"
     },
     "output_type": "display_data"
    }
   ],
   "source": [
    "from scipy import stats\n",
    "\n",
    "sample = data['Condition_1'] # Choose which data to use\n",
    "\n",
    "stat,pvalue = stats.skewtest(sample) # Run the skew test\n",
    "\n",
    "# Print the p value of the skew test up to 30 decimal points\n",
    "print('The skewtest p-value is ' + '%.30f' % pvalue) \n",
    "\n",
    "plt.hist(sample) # Create a histogram\n",
    "plt.ylabel('Observations')\n",
    "plt.xlabel('Thing we\\'re measuring')\n",
    "plt.show()"
   ]
  },
  {
   "cell_type": "markdown",
   "id": "38e616cb",
   "metadata": {},
   "source": [
    "## Run two-sample statistics\n",
    "\n",
    "### *Inferential statistics* generalize from observed data to the world at large\n",
    "\n",
    "Most often, the goal of our hypothesis testing is to test whether or not two distributions are different, or if a distribution has a different mean than the underlying population distribution.\n",
    "\n",
    "The SciPy stats package has [many hypothesis testing tools](https://docs.scipy.org/doc/scipy/reference/stats.html) (see Statistical Tests). In most cases, we will be testing whether two or more distributions are different from eachother.\n",
    "\n",
    "If we know our distributions are normal (they're generated from a normal distribution!) we could use **parametric statistics** to test our hypothesis. To test for differences between normal populations, we can use the independent t-test in our stats package: `stats.ttest_ind()`. If we had paired samples, we would use a dependent t-test [as seen here](https://docs.scipy.org/doc/scipy/reference/generated/scipy.stats.ttest_rel.html#scipy.stats.ttest_rel).\n",
    "\n",
    "If one of our populations is skewed, however, we **cannot use a t-test**. A t-test assumes that the populations are normally distributed. For skewed populations, we can use either the [Mann-Whitney U](https://docs.scipy.org/doc/scipy/reference/generated/scipy.stats.mannwhitneyu.html#scipy.stats.mannwhitneyu) (for independent samples, `stats.mannwhitneyu()`) or the [Wilcoxon Signed Rank Test](https://docs.scipy.org/doc/scipy/reference/generated/scipy.stats.wilcoxon.html#scipy.stats.wilcoxon) (for dependent/paired samples,`stats.wilcoxon()`).\n",
    "\n",
    "Below, there is sample code to run three different statistical tests. You should use the one that is most appropriate for your data. "
   ]
  },
  {
   "cell_type": "code",
   "execution_count": 9,
   "id": "80e78e69",
   "metadata": {},
   "outputs": [
    {
     "name": "stdout",
     "output_type": "stream",
     "text": [
      "Ttest_indResult(statistic=-2.9988007195203354, pvalue=0.008500738734233602)\n",
      "MannwhitneyuResult(statistic=12.0, pvalue=0.0060769623290159005)\n",
      "WilcoxonResult(statistic=0.0, pvalue=0.00390625)\n"
     ]
    }
   ],
   "source": [
    "print(stats.ttest_ind(data['Condition_1'],data['Condition_2'])) # to run an independent t-test\n",
    "print(stats.mannwhitneyu(data['Condition_1'],data['Condition_2'])) # to run a mannwhitneyu\n",
    "print(stats.wilcoxon(data['Condition_1'],data['Condition_2'])) # to run a wilcoxon signed rank test"
   ]
  }
 ],
 "metadata": {
  "kernelspec": {
   "display_name": "Python 3",
   "language": "python",
   "name": "python3"
  },
  "language_info": {
   "codemirror_mode": {
    "name": "ipython",
    "version": 3
   },
   "file_extension": ".py",
   "mimetype": "text/x-python",
   "name": "python",
   "nbconvert_exporter": "python",
   "pygments_lexer": "ipython3",
   "version": "3.7.3"
  }
 },
 "nbformat": 4,
 "nbformat_minor": 5
}
