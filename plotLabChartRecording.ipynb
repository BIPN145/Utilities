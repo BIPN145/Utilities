{
 "cells": [
  {
   "cell_type": "markdown",
   "metadata": {},
   "source": [
    "# Plot LabChart Recordings\n",
    "\n",
    "### This notebook will help you explore and plot *any* exported .txt file from LabChart.\n",
    "\n",
    "<mark>To run this, you will need to upload an exported .txt file from LabChart into your DataHub. Follow the instructions in your Lab Manual for how to export files. You should only export the channels you'd like to plot.</mark>\n",
    "\n",
    ">**Task**: Run the cell below to import our necessary packages and configure the notebook environment."
   ]
  },
  {
   "cell_type": "code",
   "execution_count": null,
   "metadata": {},
   "outputs": [],
   "source": [
    "# Import our packages\n",
    "import matplotlib.pyplot as plt\n",
    "import numpy as np\n",
    "\n",
    "# Decide if you want plots to be interactive or not\n",
    "# Set interactive to True if you do want interaction\n",
    "interactive = False\n",
    "\n",
    "if interactive:\n",
    "    print('Figures are interactive.')\n",
    "    # Set up interactive matplot lib and define a function to interact with plots\n",
    "    %matplotlib nbagg\n",
    "    def onclick(event):\n",
    "        pos.append([event.xdata,event.ydata])\n",
    "\n",
    "else:\n",
    "    print('Figures are not interactive.')\n",
    "    %matplotlib inline \n",
    "    %config InlineBackend.figure_format = 'retina'\n",
    "\n",
    "print('Packages imported.')"
   ]
  },
  {
   "cell_type": "markdown",
   "metadata": {},
   "source": [
    "## Import data\n",
    "Now that we have our notebook configured, we can import our data. We will import it as a numpy array.\n",
    "\n",
    "To do so:\n",
    "\n",
    "1. Upload your file into the same folder as this code.\n",
    "2. Change the filename below to your filename.\n",
    "3. Define a list of column names. If you exported one channel, you'll have just two columns, given as two strings in a list: `['time','recording']`. This is in the code by default. However, you should add a column name **if** you exported more than one channel. In other words, you could write `['time','recording_1','recording_2']`."
   ]
  },
  {
   "cell_type": "code",
   "execution_count": null,
   "metadata": {},
   "outputs": [],
   "source": [
    "# Change the filename to EXACTLY match your file\n",
    "filename = 'recording.txt'\n",
    "\n",
    "# Define column names\n",
    "columns = ['time', 'recording']\n",
    "\n",
    "# Use numpy genfromtxt to import\n",
    "data = np.genfromtxt(filename, dtype=float, skip_header=6, delimiter='\\t', names=columns)\n",
    "data['recording']"
   ]
  },
  {
   "cell_type": "markdown",
   "metadata": {},
   "source": [
    "## Modify axes units *(optional)*\n",
    "\n",
    "LabChart data *should* export by volts and second by default. We can inspect the timestamps to see whether these are in milliseconds or seconds.\n",
    "\n",
    "**Note**: Remember that if your data was collected at 40,000 Hz (40 kHz), this means that there is 1/40,000 (or 0.000025) seconds between each data point. "
   ]
  },
  {
   "cell_type": "code",
   "execution_count": null,
   "metadata": {},
   "outputs": [],
   "source": [
    "# Print the 'time' data within the NumPy data array\n",
    "print(data['time'])\n",
    "\n",
    "# Subtract the first time stamp from the second time stamp\n",
    "print('\\nTime between each data point is:')\n",
    "print(data['time'][1]-data['time'][0])"
   ]
  },
  {
   "cell_type": "markdown",
   "metadata": {},
   "source": [
    "Instead of showing the axes in seconds, you might choose to show it in milliseconds. To do so, we should multiply the entire array by 1000, to convert from **s** to **ms**. You can multiply arrays in Python by taking the original array, and writing an expression to multiple it. For example:\n",
    "\n",
    "```\n",
    "array_s = np.array([0.000 , 0.0010 , 0.0020 , 0.0030 ])\n",
    "array_ms = array_s * 1000\n",
    "```\n",
    "\n",
    "> **Task**: Create an array of timestamps in milliseconds by multiplying `data['time']` by 1000. Assign it to `timestamps_ms`. Check that this worked by printing `timestamps_ms`."
   ]
  },
  {
   "cell_type": "code",
   "execution_count": null,
   "metadata": {},
   "outputs": [],
   "source": [
    "# Convert into ms here\n",
    "timestamps_ms = ..."
   ]
  },
  {
   "cell_type": "markdown",
   "metadata": {},
   "source": [
    "Now you should have a `timestamps_ms` variable that you can plot with below, if you'd like!"
   ]
  },
  {
   "cell_type": "markdown",
   "metadata": {},
   "source": [
    "## Plot data\n",
    "The code below will plot your data using [`plt.plot()`](https://matplotlib.org/stable/api/_as_gen/matplotlib.pyplot.plot.html). This function requires two inputs: x and y. When we're plotting recordings, typically this means x = time, and y = voltage. If you'd like to plot your timestamps in milliseconds, you'll need to replace `data['time']` with `timestamps_ms`. You should also add x and y labels.\n",
    "\n",
    "**Note on using the interactive plot** (only if you set interactive to True above): The x (time, in ms) and y (voltage, in volts) position of your cursor will update in the bottom left corner. You can use these values to make your calculations, if necessary. You can create a box to Zoom into using the Zoom button below, and return to the home view using the Home button. The crosshairs button will allow you to pan through the recording."
   ]
  },
  {
   "cell_type": "code",
   "execution_count": null,
   "metadata": {
    "scrolled": false
   },
   "outputs": [],
   "source": [
    "# Set up figure & plot\n",
    "fig,ax = plt.subplots(figsize=(10,4))\n",
    "\n",
    "# Plot the data\n",
    "plt.plot(timestamps_ms,data['recording'])\n",
    "\n",
    "# X label\n",
    "plt.xlabel('LABEL') \n",
    "\n",
    "# Y label\n",
    "plt.ylabel('LABEL') \n",
    "\n",
    "# This makes the axis labels print without scientific notation\n",
    "# You can comment this line if you do not wish to use it\n",
    "ax.ticklabel_format(useOffset=False, style='plain') \n",
    "\n",
    "# You can uncomment the line below to restrict the x axis plotting\n",
    "#plt.xlim([200,700])\n",
    "\n",
    "plt.show()"
   ]
  },
  {
   "cell_type": "markdown",
   "metadata": {},
   "source": [
    "Once you've filled out this notebook, you can use this to plot *any* exported text file from LabChart, from earthworms, to leeches, and beyond!"
   ]
  },
  {
   "cell_type": "code",
   "execution_count": null,
   "metadata": {},
   "outputs": [],
   "source": [
    "from IPython.display import HTML\n",
    "HTML('<img src=\"https://media2.giphy.com/media/BtEw37CXZti8yfq3Ke/giphy.gif\">')"
   ]
  }
 ],
 "metadata": {
  "kernelspec": {
   "display_name": "Python 3",
   "language": "python",
   "name": "python3"
  },
  "language_info": {
   "codemirror_mode": {
    "name": "ipython",
    "version": 3
   },
   "file_extension": ".py",
   "mimetype": "text/x-python",
   "name": "python",
   "nbconvert_exporter": "python",
   "pygments_lexer": "ipython3",
   "version": "3.7.3"
  }
 },
 "nbformat": 4,
 "nbformat_minor": 2
}
