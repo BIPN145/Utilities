{
 "cells": [
  {
   "cell_type": "markdown",
   "metadata": {},
   "source": [
    "# Test Reaction Times\n",
    "\n",
    "This notebook will help you plot your data from the reaction time lab, as well as test for statistically significant differences between auditory and visual reaction times. You might find it useful to refer back to the Statistics.ipynb notebook as well."
   ]
  },
  {
   "cell_type": "markdown",
   "metadata": {},
   "source": [
    "## Setup\n",
    "\n",
    "As usual, let's first import the packages we need."
   ]
  },
  {
   "cell_type": "code",
   "execution_count": null,
   "metadata": {},
   "outputs": [],
   "source": [
    "# Import our necessary toolboxes and tell matplotlib to plot inline\n",
    "import numpy as np\n",
    "import matplotlib.pyplot as plt\n",
    "import pandas as pd\n",
    "from scipy import stats\n",
    "%matplotlib inline\n",
    "%config InlineBackend.figure_format = 'retina' # configure high-resolution plotting\n",
    "\n",
    "print('Packages Imported.')"
   ]
  },
  {
   "cell_type": "markdown",
   "metadata": {},
   "source": [
    "## Step 1. Import your Data\n",
    "> In the cell below, change the filename so that it *exactly matches* the file you uploaded to DataHub. Once you run the cell, it should show you data that looks similar to your spreadsheet."
   ]
  },
  {
   "cell_type": "code",
   "execution_count": null,
   "metadata": {},
   "outputs": [],
   "source": [
    "filename = 'ReactionTimes.csv'\n",
    "\n",
    "data = pd.read_csv(filename)\n",
    "data"
   ]
  },
  {
   "cell_type": "markdown",
   "metadata": {},
   "source": [
    "## Step 2. Plot your data as a histogram\n",
    "> Using `plt.hist()`, plot your auditory and visual data as histograms.\n",
    "\n",
    "### Tips\n",
    "- Refer to a column of the data using `data['column_name']`. \n",
    "- Plot two histograms on one plot by simply having two `plt.hist()` lines. For example:\n",
    "```\n",
    "plt.hist(data_a)\n",
    "plt.hist(data_b)\n",
    "```\n",
    "- Make your plots transparent by adding an `alpha=` argument. For example, `plt.hist(data_a,alpha=0.5)`."
   ]
  },
  {
   "cell_type": "code",
   "execution_count": null,
   "metadata": {},
   "outputs": [],
   "source": [
    "# Plot your histograms here!\n"
   ]
  },
  {
   "cell_type": "markdown",
   "metadata": {},
   "source": [
    "##  Step 3. Test for skewness and statistical significance.\n",
    "\n",
    "> Using the examples in the Statistics notebook as a reference, check the skewness of your auditory and visual samples. Then, test for statistical significance between these two populations."
   ]
  },
  {
   "cell_type": "code",
   "execution_count": null,
   "metadata": {},
   "outputs": [],
   "source": [
    "# Check for skewness\n"
   ]
  },
  {
   "cell_type": "code",
   "execution_count": null,
   "metadata": {},
   "outputs": [],
   "source": [
    "# Run your statistical test\n"
   ]
  }
 ],
 "metadata": {
  "kernelspec": {
   "display_name": "Python 3",
   "language": "python",
   "name": "python3"
  },
  "language_info": {
   "codemirror_mode": {
    "name": "ipython",
    "version": 3
   },
   "file_extension": ".py",
   "mimetype": "text/x-python",
   "name": "python",
   "nbconvert_exporter": "python",
   "pygments_lexer": "ipython3",
   "version": "3.7.6"
  }
 },
 "nbformat": 4,
 "nbformat_minor": 2
}
