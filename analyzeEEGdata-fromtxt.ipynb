{
 "cells": [
  {
   "cell_type": "markdown",
   "id": "d12644d4",
   "metadata": {},
   "source": [
    "# Analyze EEG data\n",
    "\n",
    "This notebook will help you prepare the figures for your EEG lab report. Before running this notebook, export six different files from LabChart:\n",
    "\n",
    "1. MATLAB (.mat) file of selected data (raw recording) for eyes open and closed. Note that the goal of this figure is to see alpha waves (we do not want to see your entire experiment!)\n",
    "2. **PSD .txt file** for eyes open and closed\n",
    "3. **Spectrogram .txt. file** for eyes open and closed.\n",
    "\n",
    "![](https://media3.giphy.com/media/2seGQ9JQrHzPlNgqFY/giphy.gif?cid=ecf05e477lrmp9f3xph0dmyxg5lh5uz9vxazrpve9wtmadgs&rid=giphy.gif&ct=g)\n",
    "<hr>"
   ]
  },
  {
   "cell_type": "markdown",
   "id": "b3a2e8ec",
   "metadata": {},
   "source": [
    "## Figure 1. Raw EEG recordings\n",
    "\n",
    "<mark>To run this, you will need to upload an exported .mat file from LabChart into your DataHub. [Follow these instructions on how to export your data as a .mat file](https://docs.google.com/document/d/1nscGwk4ZoLGoE1HhwHiOv8XimzUQ80RTLfwSNeMRO6E/edit#heading=h.njfsdrg02rx).</mark>\n",
    "\n",
    "**For this report, you should export a selection of data (showing alpha waves!) and only the recorded channel.**\n",
    "\n",
    "After exporting your selected data as a .mat file, change the filename below."
   ]
  },
  {
   "cell_type": "code",
   "execution_count": null,
   "id": "a0fe181c",
   "metadata": {},
   "outputs": [],
   "source": [
    "# Change the filename to EXACTLY match your file\n",
    "filename = 'EEG_alpha.mat'\n",
    "\n",
    "# Load the data\n",
    "from scipy.io import loadmat\n",
    "data = loadmat(filename)['data'][0]\n",
    "\n",
    "print('Data imported.')"
   ]
  },
  {
   "cell_type": "markdown",
   "id": "c3d80b38",
   "metadata": {},
   "source": [
    "Below, we'll set the sampling rate. Ensure that the printed sampling rate matches the sampling rate of your recording!"
   ]
  },
  {
   "cell_type": "code",
   "execution_count": null,
   "id": "87dcc039",
   "metadata": {},
   "outputs": [],
   "source": [
    "import numpy as np\n",
    "\n",
    "# Get the sampling rate and create a time axis for our data\n",
    "sampling_rate = 400\n",
    "\n",
    "timestamps = (np.arange(0, len(data)) * (1.0 / sampling_rate))*1000\n",
    "\n",
    "print('Data was sampled at', sampling_rate, 'Hz.')"
   ]
  },
  {
   "cell_type": "markdown",
   "id": "e60614a9",
   "metadata": {},
   "source": [
    "Now, we can plot the data!"
   ]
  },
  {
   "cell_type": "code",
   "execution_count": null,
   "id": "ec929885",
   "metadata": {},
   "outputs": [],
   "source": [
    "# import plotting packages\n",
    "import matplotlib.pyplot as plt\n",
    "%matplotlib inline \n",
    "%config InlineBackend.figure_format = 'retina'\n",
    "\n",
    "# set up figure & plt\n",
    "fig,ax = plt.subplots(figsize=(10,4))\n",
    "\n",
    "plt.plot(timestamps,data)\n",
    "\n",
    "# You may need to change the x label\n",
    "plt.xlabel('Time (ms)') \n",
    "\n",
    "# You may need to change the y label\n",
    "plt.ylabel('Voltage (V)') \n",
    "\n",
    "# This makes the axis labels print without scientific notation\n",
    "ax.ticklabel_format(useOffset=False, style='plain') \n",
    "\n",
    "# You can uncomment the line below to restrict the x axis plotting -- for example, to Zoom into alpha waves\n",
    "#plt.xlim([200,700])\n",
    "\n",
    "plt.show()"
   ]
  },
  {
   "cell_type": "markdown",
   "id": "334844eb",
   "metadata": {},
   "source": [
    "## Figure 2. Your PSD data\n",
    "First, follow the instructions in the lab manual to export your PSD plot as a .txt file and upload that file to DataHub."
   ]
  },
  {
   "cell_type": "code",
   "execution_count": null,
   "id": "7a0426d5",
   "metadata": {},
   "outputs": [],
   "source": [
    "# Import necessary packages\n",
    "import pandas as pd\n",
    "\n",
    "# Change the filename below to EXACTLY match your file\n",
    "psd_filename = 'EEGpsd.txt'\n",
    "\n",
    "psd_data = pd.read_fwf(psd_filename)\n",
    "psd_data = psd_data.iloc[:,0].str.split('\\t', expand=True).astype('float')\n",
    "psd_data.columns = ['Frequency','EEG']\n",
    "psd_data.head()"
   ]
  },
  {
   "cell_type": "code",
   "execution_count": null,
   "id": "bacb05d5",
   "metadata": {
    "scrolled": false
   },
   "outputs": [],
   "source": [
    "# import plotting packages\n",
    "import matplotlib.pyplot as plt\n",
    "%matplotlib inline \n",
    "%config InlineBackend.figure_format = 'retina'\n",
    "\n",
    "# set up figure\n",
    "fig,ax = plt.subplots(figsize=(6,6))\n",
    "\n",
    "frequency = psd_data['Frequency']\n",
    "EEG = psd_data['EEG']\n",
    "\n",
    "plt.plot(frequency,EEG)\n",
    "\n",
    "# You may need to change the x label\n",
    "plt.xlabel('X LABEL') \n",
    "\n",
    "# You may need to change the y label\n",
    "plt.ylabel('Y LABEL') \n",
    "\n",
    "# This makes the axis labels print without scientific notation\n",
    "#ax.ticklabel_format(useOffset=False, style='plain') \n",
    "\n",
    "# You can uncomment the line below to restrict the x axis plotting\n",
    "#plt.xlim([200,700])\n",
    "\n",
    "plt.show()"
   ]
  },
  {
   "cell_type": "markdown",
   "id": "2cfd2b1a",
   "metadata": {},
   "source": [
    "## Figure 3. Your spectrogram\n",
    "The following code will plot your spectrogram data from LabChart. First, you need to export a <mark>spectrogram</mark> .txt file and upload it to your DataHub.\n",
    "\n",
    "### Step 1. Load Data"
   ]
  },
  {
   "cell_type": "code",
   "execution_count": null,
   "id": "6fc5c46d",
   "metadata": {},
   "outputs": [],
   "source": [
    "# Import necessary packages\n",
    "import numpy as np\n",
    "import pandas as pd\n",
    "\n",
    "# CHANGE YOUR FILE NAME HERE\n",
    "spectrum_filename = 'EEG_rawSpectrogram.txt'\n",
    "\n",
    "# Read the data & clean it up\n",
    "frequency_labels_df = pd.read_fwf(spectrum_filename,sep='\\t',header=2,encoding = 'unicode_escape')\n",
    "frequency_labels = frequency_labels_df.columns.str.split('\\t')\n",
    "frequency_labels = frequency_labels[0][1:]\n",
    "\n",
    "spectrum_data_df = pd.read_fwf(spectrum_filename,sep='\\t',header=3,encoding = 'unicode_escape')\n",
    "spectrum_data_df = spectrum_data_df.iloc[:,0].str.split('\\t', expand=True)\n",
    "spectrum_time = list(spectrum_data_df.iloc[:,0])\n",
    "spectrum_data_df = spectrum_data_df.iloc[:,1:].astype('float')\n",
    "spectrum_data_df.columns = frequency_labels\n",
    "spectrum_array = np.array(spectrum_data_df)\n",
    "spectrum_array"
   ]
  },
  {
   "cell_type": "markdown",
   "id": "4abc5dea",
   "metadata": {},
   "source": [
    "### Step 2. Clean data.\n",
    "We still need to clean up the data a little bit, since the frequency labels (in the 0th row) are also in here, along with the time labels in the first column. Let's save these frequency & time labels, and then only save the necessary rows of our dataset. We should be left with an array that is just the actual data."
   ]
  },
  {
   "cell_type": "code",
   "execution_count": null,
   "id": "722a969b",
   "metadata": {
    "scrolled": false
   },
   "outputs": [],
   "source": [
    "def get_sec(time_str):\n",
    "    \"\"\"Get seconds from time.\"\"\"\n",
    "    m, s = time_str.split(':')\n",
    "    return int(m) * 60 + int(s)\n",
    "\n",
    "spectrum_time_s = []\n",
    "\n",
    "for idx,row in enumerate(spectrum_time):\n",
    "    if ':' in row:\n",
    "        spectrum_time_s.append(float(get_sec(row)))\n",
    "    else:\n",
    "        spectrum_time_s.append(float(row))\n",
    "        \n",
    "recording_length = spectrum_time_s[-1] - spectrum_time_s[0]\n",
    "\n",
    "print('Frequency range is ' + str(frequency_labels[0]) + ' to ' + str(frequency_labels[-1]) + ' Hz.')\n",
    "print('Recording length is ' + str(recording_length) + ' seconds.') "
   ]
  },
  {
   "cell_type": "markdown",
   "id": "f8d9db28",
   "metadata": {},
   "source": [
    "### Step 3. Rotate & flip array and subselect frequencies to plot.\n",
    "Next, let's rotate & flip the frequency array so that it matches our conventional spectrogram format (time on y axis, frequencies going up the x axis). We'll also subselect the frequencies we want, rather than plotting up to 200 Hz."
   ]
  },
  {
   "cell_type": "code",
   "execution_count": null,
   "id": "6530b1b2",
   "metadata": {},
   "outputs": [],
   "source": [
    "# Set your max frequency below\n",
    "max_frequency = 50\n",
    "\n",
    "# Round our frequency values so we can find one that matches our max frequency\n",
    "freq_rounded = np.round(np.float_(frequency_labels))\n",
    "freq_IDs = np.where(freq_rounded == max_frequency)\n",
    "\n",
    "# Create a new frequency axis\n",
    "freq_short = freq_rounded[0:freq_IDs[0][0]]\n",
    "\n",
    "# Cut down the spectrum to only our desired frequencies\n",
    "spectrum_clean = spectrum_array[:,0:freq_short.shape[0]]\n",
    "\n",
    "# Rotate the spectrum to match typical spectrogram format\n",
    "spectrum_rotated = np.rot90(spectrum_clean[1:,:]) # skip the frequency row\n",
    "freq_labels = np.flip(freq_short,axis=0)\n",
    "\n",
    "print('Your data will plot with a maximum frequency of '+str(max_frequency))"
   ]
  },
  {
   "cell_type": "markdown",
   "id": "cc173d8f",
   "metadata": {},
   "source": [
    "### Step 4. Plot the data!\n",
    "Depending on the power in your dataset, you may need to change the maximum power plotted on the color bar. To do so, change the variable \"max_v\"."
   ]
  },
  {
   "cell_type": "code",
   "execution_count": null,
   "id": "5405b5c8",
   "metadata": {},
   "outputs": [],
   "source": [
    "num_ticks = 10\n",
    "\n",
    "yticks = np.linspace(0, len(freq_labels) - 1, num_ticks, dtype=np.int)\n",
    "yticklabels = [freq_labels[idx] for idx in yticks]\n",
    "\n",
    "xticks = np.linspace(0, len(spectrum_time_s)-1, num_ticks, dtype=np.int)\n",
    "xticklabels = [round(spectrum_time_s[idt],2) for idt in xticks]\n",
    "\n",
    "# use the line below to change the heatmap scale bar\n",
    "max_v = 1e-11\n",
    "\n",
    "print('Your data will plot with a maximum V^2 of '+str(max_v))"
   ]
  },
  {
   "cell_type": "markdown",
   "id": "5c817aed",
   "metadata": {},
   "source": [
    "Aaaaaand plot!"
   ]
  },
  {
   "cell_type": "code",
   "execution_count": null,
   "id": "e1f037af",
   "metadata": {},
   "outputs": [],
   "source": [
    "# import plotting packages\n",
    "import matplotlib.pyplot as plt\n",
    "%matplotlib inline \n",
    "%config InlineBackend.figure_format = 'retina'\n",
    "\n",
    "# Set up the figure\n",
    "fig,ax = plt.subplots(1,1,figsize=(8, 5), dpi= 80, facecolor='w', edgecolor='k')\n",
    "\n",
    "plt.pcolor(np.flip(spectrum_rotated),vmax=max_v)\n",
    "\n",
    "# Fix axes\n",
    "ax.set_yticks(yticks)\n",
    "ax.set_yticklabels([freq_short[idx] for idx in yticks])\n",
    "\n",
    "ax.set_xticks(xticks)\n",
    "ax.set_xticklabels(xticklabels)\n",
    "\n",
    "ax.set_ylabel('Frequency (Hz)',fontdict={'fontsize':14})\n",
    "ax.set_xlabel('Time (seconds)',fontdict={'fontsize':14})\n",
    "\n",
    "cbar = plt.colorbar()\n",
    "cbar.ax.set_ylabel('Power ($V^2$)')\n",
    "\n",
    "\n",
    "plt.show()"
   ]
  },
  {
   "cell_type": "markdown",
   "id": "d9d89af9",
   "metadata": {},
   "source": [
    "### Step 5. Right click on the image above to save it for your lab report.\n",
    "\n",
    "If you want to run this code again on a different dataset (e.g., for eyes open instead of closed), we need to clear all of the variables. Run the reset code block below to do so. It will also prompt you to make sure you want to proceed. Type y and press enter."
   ]
  },
  {
   "cell_type": "code",
   "execution_count": null,
   "id": "17c1377a",
   "metadata": {},
   "outputs": [],
   "source": [
    "%reset"
   ]
  }
 ],
 "metadata": {
  "kernelspec": {
   "display_name": "Python 3",
   "language": "python",
   "name": "python3"
  },
  "language_info": {
   "codemirror_mode": {
    "name": "ipython",
    "version": 3
   },
   "file_extension": ".py",
   "mimetype": "text/x-python",
   "name": "python",
   "nbconvert_exporter": "python",
   "pygments_lexer": "ipython3",
   "version": "3.7.3"
  }
 },
 "nbformat": 4,
 "nbformat_minor": 5
}
